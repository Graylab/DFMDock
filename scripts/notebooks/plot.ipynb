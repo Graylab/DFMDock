{
 "cells": [
  {
   "cell_type": "code",
   "execution_count": 1,
   "metadata": {},
   "outputs": [],
   "source": [
    "import pandas as pd\n",
    "import matplotlib.pyplot as plt\n",
    "import matplotlib.ticker as mtick\n",
    "import seaborn as sns\n",
    "import numpy as np\n",
    "%matplotlib inline\n",
    "plt.rcParams['font.size'] = 16"
   ]
  },
  {
   "cell_type": "code",
   "execution_count": 6,
   "metadata": {},
   "outputs": [],
   "source": [
    "# read csv files\n",
    "file_dir = '../csv_files/'\n",
    "train_set = 'dips'\n",
    "test_set = 'db5_test'\n",
    "model = 'model_0'\n",
    "num_samples = 40\n",
    "num_steps = 200\n",
    "\n",
    "df_list = []\n",
    "for i in range(3):\n",
    "    file_name = f'{test_set}_{model}_{num_samples}_samples_{num_steps}_steps_{train_set}_{i}'\n",
    "    df = pd.read_csv(f'{file_dir}{file_name}.csv')\n",
    "    df_list.append(df)"
   ]
  },
  {
   "cell_type": "code",
   "execution_count": 7,
   "metadata": {},
   "outputs": [],
   "source": [
    "df_sr_list = []\n",
    "for df in df_list:\n",
    "    result_df = df.copy().sort_values(by='energy', ascending=True).groupby('id')\n",
    "    top1 = result_df.head(1).copy()\n",
    "    top5 = result_df.head(5).sort_values(by='DockQ', ascending=False).groupby('id').head(1).copy()\n",
    "    top10 = result_df.head(10).sort_values(by='DockQ', ascending=False).groupby('id').head(1).copy()\n",
    "    top25 = result_df.head(25).sort_values(by='DockQ', ascending=False).groupby('id').head(1).copy()\n",
    "    top40 = result_df.head(40).sort_values(by='DockQ', ascending=False).groupby('id').head(1).copy()\n",
    "    best = df.sort_values(by='DockQ', ascending=False).groupby('id').head(1).copy()\n",
    "    # merge dataframes\n",
    "    top1['method'] = 'Top-1'\n",
    "    top5['method'] = 'Top-5'\n",
    "    top10['method'] = 'Top-10'\n",
    "    top25['method'] = 'Top-25'\n",
    "    best['method'] = 'Oracle'\n",
    "\n",
    "    # merge the dataframes \n",
    "    df_merged = pd.concat([top1, top5, top10, top25, best])\n",
    "\n",
    "    # get the order\n",
    "    cols = ['Top-1', 'Top-5', 'Top-10', 'Top-25', 'Oracle']\n",
    "\n",
    "    df_merged['method'] = pd.Categorical(df_merged['method'], categories=cols, ordered=True)\n",
    "\n",
    "    # separate for each metric\n",
    "    df_DockQ = df_merged.pivot(index='id', columns='method', values='DockQ')[cols]\n",
    "\n",
    "    df_sr = pd.DataFrame()\n",
    "    df_sr['Acceptable'] = df_DockQ[(df_DockQ >= 0.23)].count() / df_DockQ.shape[0]\n",
    "    df_sr['Medium'] = df_DockQ[(df_DockQ >= 0.49)].count() / df_DockQ.shape[0]\n",
    "    df_sr['High'] = df_DockQ[(df_DockQ >= 0.8)].count() / df_DockQ.shape[0]\n",
    "    df_sr = df_sr.reset_index()\n",
    "    df_sr_list.append(df_sr)\n",
    "\n",
    "df_sr = pd.concat(df_sr_list)"
   ]
  },
  {
   "cell_type": "code",
   "execution_count": 8,
   "metadata": {},
   "outputs": [],
   "source": [
    "df = pd.concat(df_list)\n",
    "result_df = df.copy().sort_values(by='energy', ascending=True).groupby('id')\n",
    "top1 = result_df.head(1).copy()\n",
    "top5 = result_df.head(5).sort_values(by='DockQ', ascending=False).groupby('id').head(1).copy()\n",
    "top10 = result_df.head(10).sort_values(by='DockQ', ascending=False).groupby('id').head(1).copy()\n",
    "top25 = result_df.head(25).sort_values(by='DockQ', ascending=False).groupby('id').head(1).copy()\n",
    "top40 = result_df.head(40).sort_values(by='DockQ', ascending=False).groupby('id').head(1).copy()\n",
    "best = df.sort_values(by='DockQ', ascending=False).groupby('id').head(1).copy()\n",
    "# merge dataframes\n",
    "top1['method'] = 'Top-1'\n",
    "top5['method'] = 'Top-5'\n",
    "top10['method'] = 'Top-10'\n",
    "top25['method'] = 'Top-25'\n",
    "best['method'] = 'Oracle'\n",
    "\n",
    "# merge the dataframes \n",
    "df_merged = pd.concat([top1, top5, top10, top25, best])\n",
    "\n",
    "# get the order\n",
    "cols = ['Top-1', 'Top-5', 'Top-10', 'Top-25', 'Oracle']\n",
    "\n",
    "df_merged['method'] = pd.Categorical(df_merged['method'], categories=cols, ordered=True)\n",
    "\n",
    "# separate for each metric\n",
    "df_DockQ = df_merged.pivot(index='id', columns='method', values='DockQ')[cols]\n",
    "\n",
    "df_sr = pd.DataFrame()\n",
    "df_sr['Acceptable'] = df_DockQ[(df_DockQ >= 0.23)].count() / df_DockQ.shape[0]\n",
    "df_sr['Medium'] = df_DockQ[(df_DockQ >= 0.49)].count() / df_DockQ.shape[0]\n",
    "df_sr['High'] = df_DockQ[(df_DockQ >= 0.8)].count() / df_DockQ.shape[0]\n",
    "df_sr = df_sr.reset_index()"
   ]
  },
  {
   "cell_type": "code",
   "execution_count": 9,
   "metadata": {},
   "outputs": [
    {
     "data": {
      "image/png": "[encoded data removed]",
      "text/plain": [
       "<Figure size 600x600 with 1 Axes>"
      ]
     },
     "metadata": {},
     "output_type": "display_data"
    }
   ],
   "source": [
    "melted_df = pd.melt(df_sr, id_vars='method', var_name='Quality', value_name='Success Rate')\n",
    "\n",
    "# Define custom colors for pastel red, muted red, and dark red\n",
    "custom_palette = [\"#FFC3A0\", \"#FF5733\", \"#8B0000\"]\n",
    "\n",
    "g = sns.catplot(\n",
    "    data=melted_df, \n",
    "    kind='bar', \n",
    "    x='method', \n",
    "    y='Success Rate', \n",
    "    hue='Quality', \n",
    "    dodge=False, \n",
    "    palette=custom_palette,\n",
    "    height=6,\n",
    "    aspect=1,\n",
    "    legend_out=True,\n",
    "    legend=False,\n",
    ") \n",
    "\n",
    "g.set_xlabels(\"\")\n",
    "g.ax.yaxis.set_major_formatter(mtick.PercentFormatter(xmax=1.0))\n",
    "\n",
    "#plt.ylim(0, 0.5)\n",
    "plt.xticks(rotation=0)\n",
    "plt.show()"
   ]
  }
 ],
 "metadata": {
  "kernelspec": {
   "display_name": "Python 3",
   "language": "python",
   "name": "python3"
  },
  "language_info": {
   "codemirror_mode": {
    "name": "ipython",
    "version": 3
   },
   "file_extension": ".py",
   "mimetype": "text/x-python",
   "name": "python",
   "nbconvert_exporter": "python",
   "pygments_lexer": "ipython3",
   "version": "3.9.17"
  }
 },
 "nbformat": 4,
 "nbformat_minor": 2
}
